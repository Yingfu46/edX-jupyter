{
 "cells": [
  {
   "cell_type": "markdown",
   "id": "f3fb0889-aee4-41ba-9826-1303edf5a97a",
   "metadata": {},
   "source": [
    "# Data Science Tools and Ecosystem"
   ]
  },
  {
   "cell_type": "markdown",
   "id": "e37c3c06-be76-4a4d-a3d3-8cb75521ccf8",
   "metadata": {},
   "source": [
    "In this notebook, Data Science Tools and Ecosystem are summarized."
   ]
  },
  {
   "cell_type": "markdown",
   "id": "e4b403ea-f3e3-4a69-9185-99416b24546c",
   "metadata": {},
   "source": [
    "**Objectives:**\n",
    "- List popular DS languages\n",
    "- List popular Python packages\n",
    "- List some open source DS development tools\n",
    "- Show how to work with Jupyter Notebook"
   ]
  },
  {
   "cell_type": "markdown",
   "id": "fa58d475-c371-492c-ab46-7d2e10b74042",
   "metadata": {},
   "source": [
    "Some of the popular languages that Data Scientists use are:\n",
    "1. Python\n",
    "2. R\n",
    "3. SQL\n",
    "4. Julia\n",
    "5. Java\n",
    "6. Ruby\n",
    "7. C++"
   ]
  },
  {
   "cell_type": "markdown",
   "id": "34ed50a2-4f6e-4cc5-b763-49dde11cdabc",
   "metadata": {},
   "source": [
    "Some of the commonly used libraries used by Data Scientists include:\n",
    "1. Scikit-learn\n",
    "2. pandas\n",
    "3. numPy\n",
    "4. Keras\n",
    "5. TensorFlow\n",
    "6. Spark\n",
    "7. PyTorch\n",
    "8. Seaborn\n",
    "9. Matplotlib\n",
    "10. Optuna"
   ]
  },
  {
   "cell_type": "markdown",
   "id": "a1fc6fd7-68ae-4587-a64e-2289523c47ea",
   "metadata": {},
   "source": [
    "|Data Science Tools|\n",
    "|------------------|\n",
    "|Visual Studio Code|\n",
    "|R Studio|\n",
    "|JupyterLab|"
   ]
  },
  {
   "cell_type": "markdown",
   "id": "f32ee190-1a7a-4f60-a718-64e94b04e056",
   "metadata": {},
   "source": [
    "### Below are a few examples of evaluating arithmetic expressions in Python"
   ]
  },
  {
   "cell_type": "code",
   "execution_count": 2,
   "id": "62d6e9cb-150c-436c-bc8f-229c181d7fde",
   "metadata": {},
   "outputs": [
    {
     "data": {
      "text/plain": [
       "17"
      ]
     },
     "execution_count": 2,
     "metadata": {},
     "output_type": "execute_result"
    }
   ],
   "source": [
    "(3*4)+5"
   ]
  },
  {
   "cell_type": "code",
   "execution_count": 3,
   "id": "1382078f-c586-4f49-971d-35791011da5b",
   "metadata": {},
   "outputs": [
    {
     "data": {
      "text/plain": [
       "3.3333333333333335"
      ]
     },
     "execution_count": 3,
     "metadata": {},
     "output_type": "execute_result"
    }
   ],
   "source": [
    "# This will convert 200 minutes to hours by diving by 60\n",
    "200/60"
   ]
  },
  {
   "cell_type": "markdown",
   "id": "3de5f98b-def4-4cdb-b1fc-4e119c76cae1",
   "metadata": {},
   "source": [
    "## Author\n",
    "Yingfu Xie"
   ]
  },
  {
   "cell_type": "code",
   "execution_count": null,
   "id": "0d4290d0-4c50-48b6-bbdd-72abfe2d3bb3",
   "metadata": {},
   "outputs": [],
   "source": []
  }
 ],
 "metadata": {
  "kernelspec": {
   "display_name": "Python 3 (ipykernel)",
   "language": "python",
   "name": "python3"
  },
  "language_info": {
   "codemirror_mode": {
    "name": "ipython",
    "version": 3
   },
   "file_extension": ".py",
   "mimetype": "text/x-python",
   "name": "python",
   "nbconvert_exporter": "python",
   "pygments_lexer": "ipython3",
   "version": "3.12.8"
  }
 },
 "nbformat": 4,
 "nbformat_minor": 5
}
